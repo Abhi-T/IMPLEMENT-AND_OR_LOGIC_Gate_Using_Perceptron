{
 "cells": [
  {
   "cell_type": "markdown",
   "metadata": {},
   "source": [
    "# OR-GATE Using-Perceptron\n",
    "output will be high if any of the input is high"
   ]
  },
  {
   "cell_type": "markdown",
   "metadata": {},
   "source": [
    "<img src=\"OR-gate.png\">"
   ]
  },
  {
   "cell_type": "code",
   "execution_count": 7,
   "metadata": {},
   "outputs": [],
   "source": [
    "import numpy as np\n",
    "\n",
    "input=np.array([[1,1,1],[1,0,1],[0,1,1],[0,0,1]])\n",
    "output=np.array([[1],[1],[1],[-1]])\n",
    "w1=np.array(np.random.random((3,1)))\n",
    "epochs=0\n",
    "max_epochs=10\n"
   ]
  },
  {
   "cell_type": "code",
   "execution_count": 8,
   "metadata": {},
   "outputs": [],
   "source": [
    "\n",
    "def step(x):\n",
    "    is_greator=np.float(np.greater(x,0))\n",
    "    doubled=np.multiply(is_greator,2)\n",
    "    return np.subtract(doubled,1)\n"
   ]
  },
  {
   "cell_type": "code",
   "execution_count": 9,
   "metadata": {},
   "outputs": [
    {
     "name": "stdout",
     "output_type": "stream",
     "text": [
      "[[1.]\n",
      " [1.]\n",
      " [1.]\n",
      " [1.]]\n",
      "1.0\n",
      "[[-1.]\n",
      " [-1.]\n",
      " [-1.]\n",
      " [-1.]]\n",
      "3.0\n",
      "[[1.]\n",
      " [1.]\n",
      " [1.]\n",
      " [1.]]\n",
      "1.0\n",
      "[[1.]\n",
      " [1.]\n",
      " [1.]\n",
      " [1.]]\n",
      "1.0\n",
      "[[1.]\n",
      " [1.]\n",
      " [1.]\n",
      " [1.]]\n",
      "1.0\n",
      "[[ 1.]\n",
      " [ 1.]\n",
      " [ 1.]\n",
      " [-1.]]\n",
      "0.0\n"
     ]
    }
   ],
   "source": [
    "\n",
    "while epochs<max_epochs:\n",
    "    epochs+=1\n",
    "\n",
    "    z1=np.matmul(input,w1)\n",
    "    func=np.vectorize(step)\n",
    "    t1=func(z1)\n",
    "    error=np.subtract(output,t1)\n",
    "    print(t1)\n",
    "    mse=np.mean(np.square(error))\n",
    "    print(mse)\n",
    "    if mse==0:\n",
    "        break\n",
    "    #delta calculation\n",
    "    delta=np.matmul(input.transpose(),error)\n",
    "    w1=np.add(w1,delta)"
   ]
  }
 ],
 "metadata": {
  "kernelspec": {
   "display_name": "Python 3",
   "language": "python",
   "name": "python3"
  },
  "language_info": {
   "codemirror_mode": {
    "name": "ipython",
    "version": 3
   },
   "file_extension": ".py",
   "mimetype": "text/x-python",
   "name": "python",
   "nbconvert_exporter": "python",
   "pygments_lexer": "ipython3",
   "version": "3.7.4"
  }
 },
 "nbformat": 4,
 "nbformat_minor": 2
}
