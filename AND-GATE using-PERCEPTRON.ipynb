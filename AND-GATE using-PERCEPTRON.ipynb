{
 "cells": [
  {
   "cell_type": "markdown",
   "metadata": {},
   "source": [
    "# AND-GATE using-PERCEPTRON"
   ]
  },
  {
   "cell_type": "markdown",
   "metadata": {},
   "source": [
    "# What is a Perceptron ?\n",
    "A Perceptron is an algorithm used for supervised learning of binary classifiers. \n",
    "Binary classifiers decide whether an input, usually represented by a series of vectors, belongs to a specific class.\n",
    "\n",
    "In short, a perceptron is a single-layer neural network. \n",
    "They consist of four main parts including input values, weights and bias, net sum, and an activation function."
   ]
  },
  {
   "cell_type": "markdown",
   "metadata": {},
   "source": [
    "<img src=\"Single-Perceptron.png\"/>"
   ]
  },
  {
   "cell_type": "markdown",
   "metadata": {},
   "source": [
    "# AND GATE"
   ]
  },
  {
   "cell_type": "markdown",
   "metadata": {},
   "source": [
    "The output will be high only if both the inputs are high\n",
    "<img src=\"AND-GATE.jpg\">"
   ]
  },
  {
   "cell_type": "code",
   "execution_count": 114,
   "metadata": {},
   "outputs": [],
   "source": [
    "import numpy as np"
   ]
  },
  {
   "cell_type": "code",
   "execution_count": 115,
   "metadata": {},
   "outputs": [],
   "source": [
    "input=np.array([[1,1,1],[1,0,1],[0,1,1],[0,0,1]]) # size 4,3\n",
    "output=np.array([[1],[-1],[-1],[-1]])"
   ]
  },
  {
   "cell_type": "code",
   "execution_count": 116,
   "metadata": {},
   "outputs": [],
   "source": [
    "w1=np.array(np.random.random((3,1)))"
   ]
  },
  {
   "cell_type": "code",
   "execution_count": 117,
   "metadata": {},
   "outputs": [
    {
     "data": {
      "text/plain": [
       "array([[0.57020818],\n",
       "       [0.33611948],\n",
       "       [0.65536547]])"
      ]
     },
     "execution_count": 117,
     "metadata": {},
     "output_type": "execute_result"
    }
   ],
   "source": [
    "w1"
   ]
  },
  {
   "cell_type": "code",
   "execution_count": 118,
   "metadata": {},
   "outputs": [],
   "source": [
    "epochs=0\n",
    "max_epochs=10"
   ]
  },
  {
   "cell_type": "code",
   "execution_count": 119,
   "metadata": {},
   "outputs": [],
   "source": [
    "#Activation functions or step functions are decision making units of neural networks\n",
    "def step(x):\n",
    "    is_greator=np.float(np.greater(x,0))\n",
    "    doubled=np.multiply(is_greator,2)\n",
    "    return np.subtract(doubled,1)    "
   ]
  },
  {
   "cell_type": "code",
   "execution_count": 120,
   "metadata": {},
   "outputs": [
    {
     "name": "stdout",
     "output_type": "stream",
     "text": [
      "[[1.]\n",
      " [1.]\n",
      " [1.]\n",
      " [1.]]\n",
      "3.0\n",
      "[[-1.]\n",
      " [-1.]\n",
      " [-1.]\n",
      " [-1.]]\n",
      "1.0\n",
      "[[-1.]\n",
      " [-1.]\n",
      " [-1.]\n",
      " [-1.]]\n",
      "1.0\n",
      "[[ 1.]\n",
      " [ 1.]\n",
      " [ 1.]\n",
      " [-1.]]\n",
      "2.0\n",
      "[[-1.]\n",
      " [-1.]\n",
      " [-1.]\n",
      " [-1.]]\n",
      "1.0\n",
      "[[ 1.]\n",
      " [-1.]\n",
      " [-1.]\n",
      " [-1.]]\n",
      "0.0\n"
     ]
    }
   ],
   "source": [
    "while epochs < max_epochs:\n",
    "    epochs+=1\n",
    "    o1=np.matmul(input,w1) #output o1 is matrix multiplication of input with weights\n",
    "    func=np.vectorize(step)\n",
    "    t1=func(o1) # t1 is thresholded output using step function\n",
    "    error=np.subtract(output,t1)\n",
    "    print(t1)\n",
    "    mse=np.mean(np.square(error))\n",
    "    print(mse)\n",
    "    if mse==0:\n",
    "        break\n",
    "    #delta calculation\n",
    "    delta=np.matmul(input.transpose(),error) #size 3,1\n",
    "    w1=np.add(w1, delta)"
   ]
  },
  {
   "cell_type": "code",
   "execution_count": null,
   "metadata": {},
   "outputs": [],
   "source": []
  },
  {
   "cell_type": "code",
   "execution_count": null,
   "metadata": {},
   "outputs": [],
   "source": []
  },
  {
   "cell_type": "code",
   "execution_count": null,
   "metadata": {},
   "outputs": [],
   "source": []
  }
 ],
 "metadata": {
  "kernelspec": {
   "display_name": "Python 3",
   "language": "python",
   "name": "python3"
  },
  "language_info": {
   "codemirror_mode": {
    "name": "ipython",
    "version": 3
   },
   "file_extension": ".py",
   "mimetype": "text/x-python",
   "name": "python",
   "nbconvert_exporter": "python",
   "pygments_lexer": "ipython3",
   "version": "3.7.4"
  }
 },
 "nbformat": 4,
 "nbformat_minor": 2
}
